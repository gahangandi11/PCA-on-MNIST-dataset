{
  "nbformat": 4,
  "nbformat_minor": 0,
  "metadata": {
    "colab": {
      "name": "PR_asgn4.ipynb",
      "provenance": [],
      "collapsed_sections": []
    },
    "kernelspec": {
      "name": "python3",
      "display_name": "Python 3"
    }
  },
  "cells": [
    {
      "cell_type": "code",
      "metadata": {
        "id": "WtW5Bfu0l8O4"
      },
      "source": [
        "import gzip\n",
        "import os\n",
        "import sys\n",
        "import struct\n",
        "import numpy as np"
      ],
      "execution_count": null,
      "outputs": []
    },
    {
      "cell_type": "markdown",
      "metadata": {
        "id": "c8j0JoNybR7A"
      },
      "source": [
        "read the data from gz file"
      ]
    },
    {
      "cell_type": "code",
      "metadata": {
        "id": "JlnaR9UAl2GD"
      },
      "source": [
        "def read_image(fi):\n",
        "    magic, n, rows, columns = struct.unpack(\">IIII\", fi.read(16))\n",
        "    assert magic == 0x00000803\n",
        "    assert rows == 28\n",
        "    assert columns == 28\n",
        "    rawbuffer = fi.read()\n",
        "    assert len(rawbuffer) == n * rows * columns\n",
        "    rawdata = np.frombuffer(rawbuffer, dtype='>u1', count=n*rows*columns)\n",
        "    return rawdata.reshape(n, rows, columns).astype(np.float32) / 255.0"
      ],
      "execution_count": null,
      "outputs": []
    },
    {
      "cell_type": "code",
      "metadata": {
        "id": "4jAWiV1tIZki"
      },
      "source": [
        "def read_label(fi):\n",
        "    magic, n = struct.unpack(\">II\", fi.read(8))\n",
        "    assert magic == 0x00000801\n",
        "    rawbuffer = fi.read()\n",
        "    assert len(rawbuffer) == n\n",
        "    return np.frombuffer(rawbuffer, dtype='>u1', count=n)"
      ],
      "execution_count": null,
      "outputs": []
    },
    {
      "cell_type": "code",
      "metadata": {
        "id": "rh1UIo_llbr7",
        "colab": {
          "base_uri": "https://localhost:8080/"
        },
        "outputId": "531af8b7-b6cd-4d16-dfd8-f51d4863b566"
      },
      "source": [
        "train_x=read_image(gzip.open('train-images-idx3-ubyte.gz', 'rb'))\n",
        "train_x.shape"
      ],
      "execution_count": null,
      "outputs": [
        {
          "output_type": "execute_result",
          "data": {
            "text/plain": [
              "(60000, 28, 28)"
            ]
          },
          "metadata": {
            "tags": []
          },
          "execution_count": 200
        }
      ]
    },
    {
      "cell_type": "code",
      "metadata": {
        "colab": {
          "base_uri": "https://localhost:8080/"
        },
        "id": "I8i-KSrgIg0y",
        "outputId": "525ca8de-ea80-4729-9a6e-054275e54eaa"
      },
      "source": [
        "train_y=read_label(gzip.open('train-labels-idx1-ubyte.gz', 'rb'))\n",
        "train_y.shape"
      ],
      "execution_count": null,
      "outputs": [
        {
          "output_type": "execute_result",
          "data": {
            "text/plain": [
              "(60000,)"
            ]
          },
          "metadata": {
            "tags": []
          },
          "execution_count": 201
        }
      ]
    },
    {
      "cell_type": "code",
      "metadata": {
        "colab": {
          "base_uri": "https://localhost:8080/"
        },
        "id": "9NR7cUFylmqp",
        "outputId": "ba303ab1-2d83-4595-9442-bc6565984c2f"
      },
      "source": [
        "type(train_x)\n",
        "type(train_y)"
      ],
      "execution_count": null,
      "outputs": [
        {
          "output_type": "execute_result",
          "data": {
            "text/plain": [
              "numpy.ndarray"
            ]
          },
          "metadata": {
            "tags": []
          },
          "execution_count": 202
        }
      ]
    },
    {
      "cell_type": "code",
      "metadata": {
        "id": "2xuUjppKoAog"
      },
      "source": [
        "import matplotlib\n",
        "import matplotlib.pyplot as plt\n"
      ],
      "execution_count": null,
      "outputs": []
    },
    {
      "cell_type": "code",
      "metadata": {
        "id": "kELMON66oci4"
      },
      "source": [
        "digit=train_x[3000]"
      ],
      "execution_count": null,
      "outputs": []
    },
    {
      "cell_type": "code",
      "metadata": {
        "colab": {
          "base_uri": "https://localhost:8080/",
          "height": 265
        },
        "id": "QvVSIg00oer2",
        "outputId": "cbe593e7-6c1f-4957-93fc-cb1c497186e5"
      },
      "source": [
        "plt.imshow(digit,cmap=\"gray\",interpolation=\"none\")\n",
        "plt.axis('off')\n",
        "plt.show()\n",
        "train_y[3000]"
      ],
      "execution_count": null,
      "outputs": [
        {
          "output_type": "display_data",
          "data": {
            "image/png": "[encoded data removed]",
            "text/plain": [
              "<Figure size 432x288 with 1 Axes>"
            ]
          },
          "metadata": {
            "tags": [],
            "needs_background": "light"
          }
        },
        {
          "output_type": "execute_result",
          "data": {
            "text/plain": [
              "9"
            ]
          },
          "metadata": {
            "tags": []
          },
          "execution_count": 205
        }
      ]
    },
    {
      "cell_type": "code",
      "metadata": {
        "id": "UTA_HTaeouLz",
        "colab": {
          "base_uri": "https://localhost:8080/"
        },
        "outputId": "b62003b1-fe49-4fa3-d1a3-5aa6123cff15"
      },
      "source": [
        "res=train_x.reshape(60000,-1)\n",
        "res.shape"
      ],
      "execution_count": null,
      "outputs": [
        {
          "output_type": "execute_result",
          "data": {
            "text/plain": [
              "(60000, 784)"
            ]
          },
          "metadata": {
            "tags": []
          },
          "execution_count": 206
        }
      ]
    },
    {
      "cell_type": "markdown",
      "metadata": {
        "id": "aFkTPQPYbmG6"
      },
      "source": [
        "select all the images that represent zero"
      ]
    },
    {
      "cell_type": "code",
      "metadata": {
        "id": "D9MZWKyJK54d"
      },
      "source": [
        "d=[]\n",
        "sum=1;\n",
        "for i in range(60000):\n",
        "    if(train_y[i]==8):\n",
        "        d.append(res[i])\n",
        "x_res=np.array(d)"
      ],
      "execution_count": null,
      "outputs": []
    },
    {
      "cell_type": "code",
      "metadata": {
        "colab": {
          "base_uri": "https://localhost:8080/"
        },
        "id": "E5a4JBbQSQJB",
        "outputId": "7ec7ab89-baea-44f8-ce4e-a8d1a9ebf24f"
      },
      "source": [
        "x_res.shape"
      ],
      "execution_count": null,
      "outputs": [
        {
          "output_type": "execute_result",
          "data": {
            "text/plain": [
              "(5851, 784)"
            ]
          },
          "metadata": {
            "tags": []
          },
          "execution_count": 208
        }
      ]
    },
    {
      "cell_type": "markdown",
      "metadata": {
        "id": "luVgKYekb2Li"
      },
      "source": [
        "plot an image of zero before applying PCA"
      ]
    },
    {
      "cell_type": "code",
      "metadata": {
        "colab": {
          "base_uri": "https://localhost:8080/",
          "height": 265
        },
        "id": "55lYfon2LPI5",
        "outputId": "11563cb7-a027-4bca-92a5-7c525875a763"
      },
      "source": [
        "img=x_res[300].reshape(28,28)\n",
        "plt.imshow(img,cmap=\"gray\",interpolation=\"none\")\n",
        "plt.show()"
      ],
      "execution_count": null,
      "outputs": [
        {
          "output_type": "display_data",
          "data": {
            "image/png": "[encoded data removed]",
            "text/plain": [
              "<Figure size 432x288 with 1 Axes>"
            ]
          },
          "metadata": {
            "tags": [],
            "needs_background": "light"
          }
        }
      ]
    },
    {
      "cell_type": "code",
      "metadata": {
        "id": "O_4ecVgULEef"
      },
      "source": [
        "mn=np.mean(x_res,axis=0)\n",
        "ymat=x_res-mn\n"
      ],
      "execution_count": null,
      "outputs": []
    },
    {
      "cell_type": "code",
      "metadata": {
        "id": "Qkh7x--iLKpY"
      },
      "source": [
        "ymat=ymat.T\n",
        "cov_mat=np.cov(ymat,bias=True)"
      ],
      "execution_count": null,
      "outputs": []
    },
    {
      "cell_type": "code",
      "metadata": {
        "colab": {
          "base_uri": "https://localhost:8080/"
        },
        "id": "olMMbj_1Scex",
        "outputId": "5f102ffe-8556-42d9-e260-95665c7f89a5"
      },
      "source": [
        "cov_mat.shape"
      ],
      "execution_count": null,
      "outputs": [
        {
          "output_type": "execute_result",
          "data": {
            "text/plain": [
              "(784, 784)"
            ]
          },
          "metadata": {
            "tags": []
          },
          "execution_count": 212
        }
      ]
    },
    {
      "cell_type": "code",
      "metadata": {
        "id": "nwtFPJCpLOCA"
      },
      "source": [
        "import scipy.linalg as la\n",
        "eigvals, eigvecs = la.eig(cov_mat)\n",
        "eigvals=eigvals.real\n",
        "eigvecs=eigvecs.real"
      ],
      "execution_count": null,
      "outputs": []
    },
    {
      "cell_type": "code",
      "metadata": {
        "id": "AhmFl5faQokJ"
      },
      "source": [
        "idx = eigvals.argsort()[::1]   \n",
        "eigvals = eigvals[idx]\n",
        "eigvecs = eigvecs[:,idx]\n"
      ],
      "execution_count": null,
      "outputs": []
    },
    {
      "cell_type": "code",
      "metadata": {
        "colab": {
          "base_uri": "https://localhost:8080/"
        },
        "id": "q_VZRuS-Uyut",
        "outputId": "80aa8661-626a-4a90-f4ae-694253f65c2f"
      },
      "source": [
        "sum=0;\n",
        "for i in range(784):\n",
        "  sum=sum+eigvals[i]*eigvals[i]\n",
        "sum1=0\n",
        "for i in range(10):\n",
        "  sum1=sum1+eigvals[i]*eigvals[i]\n",
        "  print(sum1/sum)\n"
      ],
      "execution_count": null,
      "outputs": [
        {
          "output_type": "stream",
          "text": [
            "6.499236466490892e-38\n",
            "8.480928400280076e-38\n",
            "8.512003521682888e-38\n",
            "8.5430786430857e-38\n",
            "8.543578526292189e-38\n",
            "8.544078409498679e-38\n",
            "8.544078409498679e-38\n",
            "8.544078409498679e-38\n",
            "8.544078409498679e-38\n",
            "8.544078409498679e-38\n"
          ],
          "name": "stdout"
        }
      ]
    },
    {
      "cell_type": "code",
      "metadata": {
        "id": "6c2aRf4Ol79o"
      },
      "source": [
        "# f=[]\n",
        "# for j in range(10):\n",
        "#   f.append(eigvecs[j])\n",
        "#   ev=np.array(f)\n",
        "#   pro = ev.dot(ymat)   \n",
        "#   print(ev.shape)\n",
        "#   repro=ev.T.dot(pro)\n",
        "#   repro=repro.T\n",
        "#   data=repro+mn\n",
        "#   img=data[300].reshape(28,28)\n",
        "#   plt.imshow(img,cmap=\"gray\",interpolation=\"none\")\n",
        "#   plt.show()"
      ],
      "execution_count": null,
      "outputs": []
    },
    {
      "cell_type": "code",
      "metadata": {
        "colab": {
          "base_uri": "https://localhost:8080/",
          "height": 283
        },
        "id": "n3HhCEoMoK9s",
        "outputId": "b5f8ccd9-4fc5-4a8e-cc17-19859b2aa22f"
      },
      "source": [
        " \n",
        "f=[]\n",
        "for j in range(200):\n",
        "  f.append(eigvecs[j])\n",
        "ev=np.array(f)\n",
        "pro = ev.dot(ymat)   \n",
        "print(ev.shape)\n",
        "repro=ev.T.dot(pro)\n",
        "repro=repro.T\n",
        "data=repro+mn\n",
        "img=data[300].reshape(28,28)\n",
        "plt.imshow(img,cmap=\"gray\",interpolation=\"none\")\n",
        "plt.show()"
      ],
      "execution_count": null,
      "outputs": [
        {
          "output_type": "stream",
          "text": [
            "(200, 784)\n"
          ],
          "name": "stdout"
        },
        {
          "output_type": "display_data",
          "data": {
            "image/png": "[encoded data removed]",
            "text/plain": [
              "<Figure size 432x288 with 1 Axes>"
            ]
          },
          "metadata": {
            "tags": [],
            "needs_background": "light"
          }
        }
      ]
    },
    {
      "cell_type": "markdown",
      "metadata": {
        "id": "8BVZln5Db8ts"
      },
      "source": [
        "plot the same image after PCA"
      ]
    },
    {
      "cell_type": "code",
      "metadata": {
        "colab": {
          "base_uri": "https://localhost:8080/",
          "height": 265
        },
        "id": "M04aXZvhQ2DG",
        "outputId": "0793271a-b839-4a37-ed8e-4357f26863c4"
      },
      "source": [
        "\n",
        "digit=data[300].reshape(28,28)\n",
        "plt.imshow(digit,cmap=\"gray\",interpolation=\"none\") \n",
        "plt.show()"
      ],
      "execution_count": null,
      "outputs": [
        {
          "output_type": "display_data",
          "data": {
            "image/png": "[encoded data removed]",
            "text/plain": [
              "<Figure size 432x288 with 1 Axes>"
            ]
          },
          "metadata": {
            "tags": [],
            "needs_background": "light"
          }
        }
      ]
    },
    {
      "cell_type": "markdown",
      "metadata": {
        "id": "SMBzLh83cHiQ"
      },
      "source": [
        "Add the noise to data"
      ]
    },
    {
      "cell_type": "code",
      "metadata": {
        "id": "FxlrIebOWQ2K"
      },
      "source": [
        "noise=np.random.normal(0,0.1,[x_res.shape[0],784])"
      ],
      "execution_count": null,
      "outputs": []
    },
    {
      "cell_type": "code",
      "metadata": {
        "id": "qGYTfT6FZ0Sv"
      },
      "source": [
        "x_res=x_res+noise"
      ],
      "execution_count": null,
      "outputs": []
    },
    {
      "cell_type": "code",
      "metadata": {
        "colab": {
          "base_uri": "https://localhost:8080/",
          "height": 265
        },
        "id": "BlGbYlXfaQnB",
        "outputId": "02c562fd-665f-4a72-ee90-de0029b6b697"
      },
      "source": [
        "img=x_res[300].reshape(28,28)\n",
        "plt.imshow(img,cmap=\"gray\",interpolation=\"none\")\n",
        "plt.show()"
      ],
      "execution_count": null,
      "outputs": [
        {
          "output_type": "display_data",
          "data": {
            "image/png": "[encoded data removed]",
            "text/plain": [
              "<Figure size 432x288 with 1 Axes>"
            ]
          },
          "metadata": {
            "tags": [],
            "needs_background": "light"
          }
        }
      ]
    },
    {
      "cell_type": "code",
      "metadata": {
        "id": "NPn5kM1katH3"
      },
      "source": [
        "mn=np.mean(x_res,axis=0)\n",
        "ymat=x_res-mn\n",
        "ymat=ymat.T\n",
        "cov_mat=np.cov(ymat,bias=True)\n",
        "eigvals, eigvecs = la.eig(cov_mat)\n",
        "eigvals=eigvals.real\n",
        "eigvecs=eigvecs.real\n",
        "idx = eigvals.argsort()[::-1]   \n",
        "eigvals = eigvals[idx]\n",
        "eigvecs = eigvecs[:,idx]\n",
        "f=[]\n",
        "for j in range(10):\n",
        "  f.append(eigvecs[j])\n",
        "ev=np.array(f)\n",
        "#ev=np.vstack((eigvecs[0],eigvecs[1]))\n",
        "pro = ev.dot(x_res.T)\n",
        "repro=ev.T.dot(pro)\n",
        "repro=repro.T\n",
        "data=repro+mn\n"
      ],
      "execution_count": null,
      "outputs": []
    },
    {
      "cell_type": "code",
      "metadata": {
        "colab": {
          "base_uri": "https://localhost:8080/",
          "height": 265
        },
        "id": "6fHIv8U1bE31",
        "outputId": "c9c54c7c-105a-4ccb-cbf7-8c73f51bec47"
      },
      "source": [
        "digit=data[300].reshape(28,28)\n",
        "plt.imshow(digit,cmap=\"gray\",interpolation=\"none\") \n",
        "plt.show()"
      ],
      "execution_count": null,
      "outputs": [
        {
          "output_type": "display_data",
          "data": {
            "image/png": "[encoded data removed]",
            "text/plain": [
              "<Figure size 432x288 with 1 Axes>"
            ]
          },
          "metadata": {
            "tags": [],
            "needs_background": "light"
          }
        }
      ]
    }
  ]
}